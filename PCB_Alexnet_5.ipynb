{
  "nbformat": 4,
  "nbformat_minor": 0,
  "metadata": {
    "colab": {
      "name": "PCB_Alexnet.ipynb",
      "provenance": [],
      "collapsed_sections": [],
      "machine_shape": "hm",
      "include_colab_link": true
    },
    "kernelspec": {
      "name": "python3",
      "display_name": "Python 3"
    },
    "accelerator": "GPU"
  },
  "cells": [
    {
      "cell_type": "markdown",
      "metadata": {
        "id": "view-in-github",
        "colab_type": "text"
      },
      "source": [
        "<a href=\"https://colab.research.google.com/github/victordaniel/Abhishek_Kumar/blob/master/PCB_Alexnet_5.ipynb\" target=\"_parent\"><img src=\"https://colab.research.google.com/assets/colab-badge.svg\" alt=\"Open In Colab\"/></a>"
      ]
    },
    {
      "cell_type": "markdown",
      "metadata": {
        "id": "cqnoWGjx1iIC",
        "colab_type": "text"
      },
      "source": [
        "**Imports**"
      ]
    },
    {
      "cell_type": "code",
      "metadata": {
        "id": "yi98Z22q1jIv",
        "colab_type": "code",
        "outputId": "0a5c61dc-652c-4b0e-d96b-61c95d1b6d01",
        "colab": {
          "base_uri": "https://localhost:8080/",
          "height": 34
        }
      },
      "source": [
        "%tensorflow_version 1.x\n"
      ],
      "execution_count": 1,
      "outputs": [
        {
          "output_type": "stream",
          "text": [
            "TensorFlow 1.x selected.\n"
          ],
          "name": "stdout"
        }
      ]
    },
    {
      "cell_type": "code",
      "metadata": {
        "id": "uT4YaLEJXOxi",
        "colab_type": "code",
        "colab": {}
      },
      "source": [
        "from tensorflow.python.keras.layers import Dense\n",
        "from tensorflow.python.keras import Sequential\n"
      ],
      "execution_count": 0,
      "outputs": []
    },
    {
      "cell_type": "code",
      "metadata": {
        "id": "URQQuXeXadGq",
        "colab_type": "code",
        "outputId": "8fa59ed7-61f7-4b6c-84be-933724d525e0",
        "colab": {
          "base_uri": "https://localhost:8080/",
          "height": 34
        }
      },
      "source": [
        "\n",
        "from matplotlib import pyplot\n",
        "%matplotlib inline\n",
        "#from scipy.misc import toimage\n",
        "import numpy\n",
        "from keras.models import Sequential\n",
        "from keras.layers import Dense\n",
        "from keras.layers import Dropout\n",
        "from keras.layers import Flatten\n",
        "from keras.constraints import maxnorm\n",
        "from keras.optimizers import SGD\n",
        "from keras.layers.convolutional import Conv2D\n",
        "from keras.layers import BatchNormalization\n",
        "from keras.layers.convolutional import MaxPooling2D\n",
        "from keras.utils import np_utils\n",
        "from keras import backend as K\n",
        "from sklearn.model_selection import train_test_split\n",
        "#K.set_image_dim_ordering('tf')\n"
      ],
      "execution_count": 3,
      "outputs": [
        {
          "output_type": "stream",
          "text": [
            "Using TensorFlow backend.\n"
          ],
          "name": "stderr"
        }
      ]
    },
    {
      "cell_type": "code",
      "metadata": {
        "id": "OqRLtJ8tWsCD",
        "colab_type": "code",
        "outputId": "4790f628-5b36-4e0c-b6c8-c15f61adc187",
        "colab": {
          "base_uri": "https://localhost:8080/",
          "height": 85
        }
      },
      "source": [
        "%tensorflow_version"
      ],
      "execution_count": 4,
      "outputs": [
        {
          "output_type": "stream",
          "text": [
            "Currently selected TF version: 1.x\n",
            "Available versions:\n",
            "* 1.x\n",
            "* 2.x\n"
          ],
          "name": "stdout"
        }
      ]
    },
    {
      "cell_type": "code",
      "metadata": {
        "id": "5I0tVzV7v7Cb",
        "colab_type": "code",
        "outputId": "aca6cdad-f524-463b-b2ec-333692d5fb6f",
        "colab": {
          "base_uri": "https://localhost:8080/",
          "height": 122
        }
      },
      "source": [
        "from google.colab import drive\n",
        "\n",
        "drive.mount('/content/drive')"
      ],
      "execution_count": 5,
      "outputs": [
        {
          "output_type": "stream",
          "text": [
            "Go to this URL in a browser: https://accounts.google.com/o/oauth2/auth?client_id=947318989803-6bn6qk8qdgf4n4g3pfee6491hc0brc4i.apps.googleusercontent.com&redirect_uri=urn%3aietf%3awg%3aoauth%3a2.0%3aoob&response_type=code&scope=email%20https%3a%2f%2fwww.googleapis.com%2fauth%2fdocs.test%20https%3a%2f%2fwww.googleapis.com%2fauth%2fdrive%20https%3a%2f%2fwww.googleapis.com%2fauth%2fdrive.photos.readonly%20https%3a%2f%2fwww.googleapis.com%2fauth%2fpeopleapi.readonly\n",
            "\n",
            "Enter your authorization code:\n",
            "··········\n",
            "Mounted at /content/drive\n"
          ],
          "name": "stdout"
        }
      ]
    },
    {
      "cell_type": "code",
      "metadata": {
        "id": "aZGfSuz-XK82",
        "colab_type": "code",
        "outputId": "8dacc8df-a3b2-44a0-8785-e31c32f845e8",
        "colab": {
          "base_uri": "https://localhost:8080/",
          "height": 88
        }
      },
      "source": [
        "import os\n",
        "print(os.getcwd())\n",
        "print(os.chdir('/content/drive/My Drive/'))\n",
        "print(os.listdir())"
      ],
      "execution_count": 6,
      "outputs": [
        {
          "output_type": "stream",
          "text": [
            "/content\n",
            "None\n",
            "['s_x_train (1).npy', 's_x_train.npy', 'pcb_aug.npy', 'pcb_aug_y.npy', 'Getting started.pdf', '2017-ieee-Anomaly-Detection-in-Online-Social-Network-A-Survey.pdf', '01565707.pdf', '6-oddball.pdf', 'A-comparative-analysis-of-structural-graph-metrics-t_2017_Computers---Electr.pdf', 'Anomaly detection in multiplex network.docx', 'Anomaly detection in multiplex network.pdf', 'anomaly detection in multiplex networks.html', 'anomaly detection in social networks.pdf', 'definitions.pdf', 'easy.pdf', 'eigen vector anomaly detection.pdf', 'evolving data survey.pdf', 'facebook.tar.gz', 'graph based kmeans clustering.pdf', 'graph similarity.pdf', 'Graph_Cluster_Analysis.pdf', 'GraphClustering_Schaeffer07.pdf', 'hadassah.pdf', 'imp.pdf', 'Graphtheory.pdf', 'image.png', 'M.Tech. DA Syllabus1.pdf', 'matrix factorization.pdf', 'Networks An introduction.pdf', 'New Text Document.txt', 'nguyen-phan-anh-bsc.pdf', 'Notes (1).docx', 'oddball_Technical report.pdf', 'phd thesis preliminary  work.pdf', 'PPT1.pptx', 'PPT [Autosaved].pptx', 'PPT.pptx', 'PPT-graph_theory_1-11.pdf', 'PPT-Graph.pdf', 'rsingh kaur detecting anomalies in online social networks.pdf', 'SCAN.pdf', 'srivastava.pdf', 'stream graphs survey.pdf', 'streaming data.pdf', 'subgraph anomaly.pdf', 'survey11.pdf', 'thesis-large scale data processing.pdf', 'survey.ppt', 'triangle counting.pdf', 'vaisa.docx', 'thesis.pdf', 'writeup.docx', 'Colab Notebooks', 'Project', 'data.xlsx', 'Anomaly_Graph_Neural_Net-master', 'fwdtutorialclass', 'mnist', 'train.csv', 'PCB', 'x_train.npy', 'y_train.npy', 'Copy of xtrain.npy', 'Copy of ytrain.npy', 'raw_x_train.npy', 'raw_y_train.npy']\n"
          ],
          "name": "stdout"
        }
      ]
    },
    {
      "cell_type": "code",
      "metadata": {
        "id": "ToGR7e_y_fIO",
        "colab_type": "code",
        "colab": {}
      },
      "source": [
        "from IPython.display import Image,display\n",
        "#display(Image(filename='/content/drive/My Drive/SSDL/Day2/Image/alex.png',embed=True))"
      ],
      "execution_count": 0,
      "outputs": []
    },
    {
      "cell_type": "code",
      "metadata": {
        "id": "GC7V1kd3WS26",
        "colab_type": "code",
        "colab": {}
      },
      "source": [
        ""
      ],
      "execution_count": 0,
      "outputs": []
    },
    {
      "cell_type": "code",
      "metadata": {
        "id": "jm_m4mk7C3NS",
        "colab_type": "code",
        "outputId": "a24db31b-1d90-48ec-98ba-d4b28dd3b42d",
        "colab": {
          "base_uri": "https://localhost:8080/",
          "height": 51
        }
      },
      "source": [
        "import numpy as np\n",
        "data_x=np.load('x_train.npy')\n",
        "data_y=np.load('y_train.npy')\n",
        "#print(len(data_x))\n",
        "#print(len(data_y))\n",
        "#train_x=data_x\n",
        "#train_y=data_y\n",
        "##print(train_x.shape)\n",
        "#print(train_y.shape)\n",
        "#print(np.unique(train_y))\n",
        "from sklearn.model_selection import train_test_split\n",
        "\n",
        "#X_train, X_test, y_train, y_test = train_test_split(train_x, train_y, test_size=0.2)\n",
        "X_train,  y_train = data_x, data_y\n",
        "#X_test=np.load('Copy of xtrain.npy')\n",
        "#y_test=np.load('Copy of ytrain.npy')\n",
        "\n",
        "\n",
        "print(X_train.shape)\n",
        "print(y_train.shape)\n",
        "\n"
      ],
      "execution_count": 8,
      "outputs": [
        {
          "output_type": "stream",
          "text": [
            "(5040, 300, 300, 3)\n",
            "(5040,)\n"
          ],
          "name": "stdout"
        }
      ]
    },
    {
      "cell_type": "code",
      "metadata": {
        "id": "KEqXDn_-Cohg",
        "colab_type": "code",
        "colab": {}
      },
      "source": [
        "X_test=np.load('Copy of xtrain.npy')\n",
        "y_test=np.load('Copy of ytrain.npy')"
      ],
      "execution_count": 0,
      "outputs": []
    },
    {
      "cell_type": "code",
      "metadata": {
        "id": "vCI23a9euM12",
        "colab_type": "code",
        "colab": {}
      },
      "source": [
        "#X_train,  y_train = data_x, data_y\n",
        "X_test=np.load('raw_x_train.npy')\n",
        "y_test=np.load('raw_y_train.npy')"
      ],
      "execution_count": 0,
      "outputs": []
    },
    {
      "cell_type": "code",
      "metadata": {
        "id": "bp8INPwY9Bm3",
        "colab_type": "code",
        "outputId": "d92a000c-9f89-4b7f-c0b0-d72c6d6b1aa7",
        "colab": {
          "base_uri": "https://localhost:8080/",
          "height": 85
        }
      },
      "source": [
        "print(len(X_train))\n",
        "print(len(y_train))\n",
        "print(len(X_test))\n",
        "print(len(y_test))"
      ],
      "execution_count": 11,
      "outputs": [
        {
          "output_type": "stream",
          "text": [
            "5040\n",
            "5040\n",
            "2669\n",
            "2669\n"
          ],
          "name": "stdout"
        }
      ]
    },
    {
      "cell_type": "code",
      "metadata": {
        "id": "jcbAIDa4OGjv",
        "colab_type": "code",
        "colab": {
          "base_uri": "https://localhost:8080/",
          "height": 34
        },
        "outputId": "787f01af-5f70-4473-e524-95488ee3dca0"
      },
      "source": [
        "print(np.unique(y_test))"
      ],
      "execution_count": 12,
      "outputs": [
        {
          "output_type": "stream",
          "text": [
            "[0. 1.]\n"
          ],
          "name": "stdout"
        }
      ]
    },
    {
      "cell_type": "code",
      "metadata": {
        "id": "Q_vFpdGS9QRN",
        "colab_type": "code",
        "outputId": "2580eefa-77c3-48eb-8cfc-df362e582689",
        "colab": {
          "base_uri": "https://localhost:8080/",
          "height": 85
        }
      },
      "source": [
        "print(X_train.shape)\n",
        "print(y_train.shape)\n",
        "print(X_test.shape)\n",
        "print(y_test.shape)"
      ],
      "execution_count": 14,
      "outputs": [
        {
          "output_type": "stream",
          "text": [
            "(5040, 300, 300, 3)\n",
            "(5040,)\n",
            "(2669, 300, 300, 3)\n",
            "(2669,)\n"
          ],
          "name": "stdout"
        }
      ]
    },
    {
      "cell_type": "markdown",
      "metadata": {
        "id": "TjlL-TMDlUDU",
        "colab_type": "text"
      },
      "source": [
        "**Pre-Processing**"
      ]
    },
    {
      "cell_type": "code",
      "metadata": {
        "id": "pR0tRV4P2XtI",
        "colab_type": "code",
        "colab": {}
      },
      "source": [
        "X_train = X_train.astype('float32')\n",
        "X_test = X_test.astype('float32')\n",
        "X_train = X_train / 255.0\n",
        "X_test = X_test / 255.0"
      ],
      "execution_count": 0,
      "outputs": []
    },
    {
      "cell_type": "code",
      "metadata": {
        "id": "kSY7SyaQ2blN",
        "colab_type": "code",
        "colab": {}
      },
      "source": [
        "y_train = np_utils.to_categorical(y_train)\n",
        "y_test = np_utils.to_categorical(y_test)\n",
        "num_classes = y_test.shape[1]"
      ],
      "execution_count": 0,
      "outputs": []
    },
    {
      "cell_type": "code",
      "metadata": {
        "id": "AcXLq5oOlHJD",
        "colab_type": "code",
        "colab": {}
      },
      "source": [
        "from keras.optimizers import adam\n",
        "from keras import regularizers"
      ],
      "execution_count": 0,
      "outputs": []
    },
    {
      "cell_type": "markdown",
      "metadata": {
        "id": "KUZNDYUkmwkm",
        "colab_type": "text"
      },
      "source": [
        "**AlexNet Model**"
      ]
    },
    {
      "cell_type": "code",
      "metadata": {
        "id": "yfGBezzS2kal",
        "colab_type": "code",
        "colab": {
          "base_uri": "https://localhost:8080/",
          "height": 54
        },
        "outputId": "29951d31-ce9e-426f-c451-6965cf053bb8"
      },
      "source": [
        "\"\"\"\n",
        "def AlexNet_model():\n",
        "\n",
        "    model = Sequential()\n",
        "    \n",
        "    model.add(Conv2D(32, (3, 3), input_shape=(300, 300, 3), activation='relu',padding='same'))\n",
        "    model.add(MaxPooling2D(pool_size=(2, 2)))\n",
        "    \n",
        "    \n",
        "    model.add(Conv2D(32, (3, 3), activation='relu',padding='same'))\n",
        "    model.add(MaxPooling2D(pool_size=(2, 2)))\n",
        "    \n",
        "    model.add(Conv2D(64, (3, 3), activation='relu',padding='same'))\n",
        "    model.add(MaxPooling2D(pool_size=(2, 2))) \n",
        "     \n",
        "\n",
        "    \n",
        "    model.add(Conv2D(128, (3, 3), activation='relu',padding='same'))\n",
        "    model.add(MaxPooling2D(pool_size=(2, 2)))\n",
        "    \n",
        "    model.add(Conv2D(128, (3, 3), activation='relu',padding='same'))\n",
        "    model.add(MaxPooling2D(pool_size=(2, 2)))\n",
        "    \n",
        "    model.add(Dropout(0.25))\n",
        "    model.add(Flatten())\n",
        "    \n",
        "    model.add(Dense(1024, activation='relu'))\n",
        "    model.add(Dense(512, activation='relu'))\n",
        "    \n",
        "    model.add(Dense(num_classes, activation='sigmoid'))\n",
        "    \n",
        "    lrate = 0.0001\n",
        "    epochs=20\n",
        "    decay = lrate/epochs\n",
        "    optimizer =adam(lr=0.0001)\n",
        "    #sgd = SGD(lr=lrate, momentum=0.9, decay=decay, nesterov=False)\n",
        "    model.compile(loss='categorical_crossentropy', optimizer=optimizer, metrics=['accuracy'])\n",
        "    \n",
        "    return model\n",
        "  \"\"\""
      ],
      "execution_count": 18,
      "outputs": [
        {
          "output_type": "execute_result",
          "data": {
            "text/plain": [
              "\"\\ndef AlexNet_model():\\n\\n    model = Sequential()\\n    \\n    model.add(Conv2D(32, (3, 3), input_shape=(300, 300, 3), activation='relu',padding='same'))\\n    model.add(MaxPooling2D(pool_size=(2, 2)))\\n    \\n    \\n    model.add(Conv2D(32, (3, 3), activation='relu',padding='same'))\\n    model.add(MaxPooling2D(pool_size=(2, 2)))\\n    \\n    model.add(Conv2D(64, (3, 3), activation='relu',padding='same'))\\n    model.add(MaxPooling2D(pool_size=(2, 2))) \\n     \\n\\n    \\n    model.add(Conv2D(128, (3, 3), activation='relu',padding='same'))\\n    model.add(MaxPooling2D(pool_size=(2, 2)))\\n    \\n    model.add(Conv2D(128, (3, 3), activation='relu',padding='same'))\\n    model.add(MaxPooling2D(pool_size=(2, 2)))\\n    \\n    model.add(Dropout(0.25))\\n    model.add(Flatten())\\n    \\n    model.add(Dense(1024, activation='relu'))\\n    model.add(Dense(512, activation='relu'))\\n    \\n    model.add(Dense(num_classes, activation='sigmoid'))\\n    \\n    lrate = 0.0001\\n    epochs=20\\n    decay = lrate/epochs\\n    optimizer =adam(lr=0.0001)\\n    #sgd = SGD(lr=lrate, momentum=0.9, decay=decay, nesterov=False)\\n    model.compile(loss='categorical_crossentropy', optimizer=optimizer, metrics=['accuracy'])\\n    \\n    return model\\n  \""
            ]
          },
          "metadata": {
            "tags": []
          },
          "execution_count": 18
        }
      ]
    },
    {
      "cell_type": "code",
      "metadata": {
        "id": "NHM1stCYFKev",
        "colab_type": "code",
        "colab": {}
      },
      "source": [
        "def AlexNet_model():\n",
        "\n",
        "    model = Sequential()\n",
        "    \n",
        "    model.add(Conv2D(96, (11, 11), strides=4,input_shape=(300, 300, 3), activation='relu',padding='same'))\n",
        "    model.add(MaxPooling2D(pool_size=(3, 3),strides=2))\n",
        "\n",
        "\n",
        "    model.add(Conv2D(256, (5, 5), activation='relu',padding='same'))\n",
        "    model.add(MaxPooling2D(pool_size=(3,3),strides=2))\n",
        "    \n",
        "    \n",
        "    model.add(Conv2D(384, (3,3), activation='relu',padding='same'))\n",
        "    model.add(Conv2D(384, (3,3), activation='relu',padding='same'))\n",
        "    model.add(Conv2D(256, (3,3), activation='relu',padding='same'))\n",
        "    model.add(MaxPooling2D(pool_size=(3,3),strides=2))\n",
        "       \n",
        "    model.add(Dropout(0.50))\n",
        "    model.add(Flatten())\n",
        "    \n",
        "    #model.add(Dense(9216, activation='relu'))\n",
        "    model.add(Dense(4096, activation='relu'))\n",
        "    model.add(Dropout(0.50))\n",
        "    model.add(Dense(4096, activation='relu'))\n",
        "    \n",
        "    model.add(Dense(num_classes, activation='sigmoid'))\n",
        "    \n",
        "    lrate = 0.0001\n",
        "    epochs=20\n",
        "    decay = lrate/epochs\n",
        "    optimizer =adam(lr=0.0001)\n",
        "    #sgd = SGD(lr=lrate, momentum=0.9, decay=decay, nesterov=False)\n",
        "    model.compile(loss='binary_crossentropy', optimizer=optimizer, metrics=['accuracy'])\n",
        "    \n",
        "    return model"
      ],
      "execution_count": 0,
      "outputs": []
    },
    {
      "cell_type": "code",
      "metadata": {
        "id": "0y0g6PGiCeGl",
        "colab_type": "code",
        "colab": {}
      },
      "source": [
        ""
      ],
      "execution_count": 0,
      "outputs": []
    },
    {
      "cell_type": "code",
      "metadata": {
        "id": "GqWsPnU-Bv5k",
        "colab_type": "code",
        "colab": {}
      },
      "source": [
        "#os.chdir('/content/drive/My Drive/Colab Notebooks/DL_Practical_MLP/Results/MLP_CIFAR10')\n",
        "import keras\n",
        "import keras.callbacks\n",
        "from keras.callbacks import TensorBoard\n",
        "from keras.callbacks import EarlyStopping,ModelCheckpoint\n",
        "mc = ModelCheckpoint('PCB_ALEXNET.h5', monitor='val_loss', mode='min', verbose=1, save_best_only=True)\n",
        "filepath = \"saved-model-{epoch:02d}.h5\"\n",
        "mc1 = ModelCheckpoint(filepath, monitor='val_loss', mode='min', verbose=1, save_best_only=True  ,period=10)\n",
        "cv = keras.callbacks.CSVLogger('PCB_ALEXNET.h5.csv', separator=',', append=False)\n",
        "es = keras.callbacks.EarlyStopping(monitor='val_loss', min_delta=0, patience=75,  mode='auto')\n"
      ],
      "execution_count": 0,
      "outputs": []
    },
    {
      "cell_type": "code",
      "metadata": {
        "id": "SuRI-isDYqfR",
        "colab_type": "code",
        "outputId": "189d4116-81f1-4bb0-a154-a0a17839d608",
        "colab": {
          "base_uri": "https://localhost:8080/",
          "height": 54
        }
      },
      "source": [
        "\n",
        "\"\"\"\n",
        "import os\n",
        "os.chdir(\"/content/drive/My Drive/PCB\")\n",
        "from keras.callbacks import ModelCheckpoint, TensorBoard, CSVLogger\n",
        "mc = ModelCheckpoint('cipharAlexNetNet.h5', monitor='val_loss', save_best_only=True)\n",
        "tb = TensorBoard(log_dir='/content/cnn/My Drive/logs', write_graph=True, write_grads=False, write_images=False, embeddings_freq=0, update_freq='epoch')\n",
        "cv = CSVLogger('cipharAlexNetNet.csv',append=True)\n",
        "\"\"\""
      ],
      "execution_count": 101,
      "outputs": [
        {
          "output_type": "execute_result",
          "data": {
            "text/plain": [
              "'\\nimport os\\nos.chdir(\"/content/drive/My Drive/PCB\")\\nfrom keras.callbacks import ModelCheckpoint, TensorBoard, CSVLogger\\nmc = ModelCheckpoint(\\'cipharAlexNetNet.h5\\', monitor=\\'val_loss\\', save_best_only=True)\\ntb = TensorBoard(log_dir=\\'/content/cnn/My Drive/logs\\', write_graph=True, write_grads=False, write_images=False, embeddings_freq=0, update_freq=\\'epoch\\')\\ncv = CSVLogger(\\'cipharAlexNetNet.csv\\',append=True)\\n'"
            ]
          },
          "metadata": {
            "tags": []
          },
          "execution_count": 101
        }
      ]
    },
    {
      "cell_type": "code",
      "metadata": {
        "id": "Pay7jAJizkA1",
        "colab_type": "code",
        "outputId": "5ca1cdd8-e864-4d1e-d3c3-b1934eb888b8",
        "colab": {
          "base_uri": "https://localhost:8080/",
          "height": 34
        }
      },
      "source": [
        "from keras.callbacks import ModelCheckpoint\n",
        "\"\"\"\n",
        "model = Sequential()\n",
        "model.add(Dense(10, input_dim=784, kernel_initializer='uniform'))\n",
        "model.add(Activation('softmax'))\n",
        "model.compile(loss='categorical_crossentropy', optimizer='rmsprop')\n",
        "\"\"\"\n",
        "'''\n",
        "saves the model weights after each epoch if the validation loss decreased\n",
        "'''\n",
        "#checkpointer = ModelCheckpoint(filepath='/tmp/weights.hdf5', verbose=1, save_best_only=True)\n",
        "#model.fit(x_train, y_train, batch_size=128, epochs=20, verbose=0, validation_data=(X_test, Y_test), callbacks=[checkpointer])\n",
        "\n"
      ],
      "execution_count": 102,
      "outputs": [
        {
          "output_type": "execute_result",
          "data": {
            "text/plain": [
              "'\\nsaves the model weights after each epoch if the validation loss decreased\\n'"
            ]
          },
          "metadata": {
            "tags": []
          },
          "execution_count": 102
        }
      ]
    },
    {
      "cell_type": "code",
      "metadata": {
        "id": "gPLGgrRuDBSx",
        "colab_type": "code",
        "colab": {}
      },
      "source": [
        "from keras.losses import mean_squared_error,mean_absolute_error,mean_squared_logarithmic_error,categorical_hinge,hinge,squared_hinge,categorical_crossentropy\n",
        "from keras.optimizers import adam,adadelta,adagrad,adamax,sgd\n",
        "#model.compile(loss=\"categorical_crossentropy\", optimizer=\"sgd\", metrics=['accuracy'])\n"
      ],
      "execution_count": 0,
      "outputs": []
    },
    {
      "cell_type": "code",
      "metadata": {
        "id": "luwtQNV4DTpE",
        "colab_type": "code",
        "outputId": "5573abbc-2ee3-4307-9f11-a5d622ed2a94",
        "colab": {
          "base_uri": "https://localhost:8080/",
          "height": 646
        }
      },
      "source": [
        "model=AlexNet_model()\n",
        "print(model.summary())\n"
      ],
      "execution_count": 104,
      "outputs": [
        {
          "output_type": "stream",
          "text": [
            "Model: \"sequential_5\"\n",
            "_________________________________________________________________\n",
            "Layer (type)                 Output Shape              Param #   \n",
            "=================================================================\n",
            "conv2d_21 (Conv2D)           (None, 75, 75, 96)        34944     \n",
            "_________________________________________________________________\n",
            "max_pooling2d_21 (MaxPooling (None, 37, 37, 96)        0         \n",
            "_________________________________________________________________\n",
            "conv2d_22 (Conv2D)           (None, 37, 37, 256)       614656    \n",
            "_________________________________________________________________\n",
            "max_pooling2d_22 (MaxPooling (None, 18, 18, 256)       0         \n",
            "_________________________________________________________________\n",
            "conv2d_23 (Conv2D)           (None, 18, 18, 384)       885120    \n",
            "_________________________________________________________________\n",
            "conv2d_24 (Conv2D)           (None, 18, 18, 384)       1327488   \n",
            "_________________________________________________________________\n",
            "conv2d_25 (Conv2D)           (None, 18, 18, 256)       884992    \n",
            "_________________________________________________________________\n",
            "max_pooling2d_23 (MaxPooling (None, 8, 8, 256)         0         \n",
            "_________________________________________________________________\n",
            "dropout_5 (Dropout)          (None, 8, 8, 256)         0         \n",
            "_________________________________________________________________\n",
            "flatten_5 (Flatten)          (None, 16384)             0         \n",
            "_________________________________________________________________\n",
            "dense_13 (Dense)             (None, 4096)              67112960  \n",
            "_________________________________________________________________\n",
            "dropout_6 (Dropout)          (None, 4096)              0         \n",
            "_________________________________________________________________\n",
            "dense_14 (Dense)             (None, 4096)              16781312  \n",
            "_________________________________________________________________\n",
            "dense_15 (Dense)             (None, 2)                 8194      \n",
            "=================================================================\n",
            "Total params: 87,649,666\n",
            "Trainable params: 87,649,666\n",
            "Non-trainable params: 0\n",
            "_________________________________________________________________\n",
            "None\n"
          ],
          "name": "stdout"
        }
      ]
    },
    {
      "cell_type": "code",
      "metadata": {
        "id": "61Uf2JPb5iMu",
        "colab_type": "code",
        "colab": {}
      },
      "source": [
        "class WeightCallback(keras.callbacks.Callback):\n",
        "    def on_epoch_end(self, epoch, logs={}):\n",
        "        if epoch%1 == 0:\n",
        "            fig, axs = plt.subplots(1,10, figsize=(10*1.5,1.5), facecolor='w', edgecolor='k')\n",
        "            for i in range(10):\n",
        "                axs[i].set_title(\"Digit : \" + str(i))\n",
        "                digit = model.layers[0].get_weights()[0][:,i]\n",
        "                digit = ((digit - digit.min())*(1/(digit.max() - digit.min()))*255).astype(\"uint8\")\n",
        "                axs[i].imshow(digit.reshape(300,300,3),cmap=\"viridis\")\n",
        "weight = WeightCallback()"
      ],
      "execution_count": 0,
      "outputs": []
    },
    {
      "cell_type": "code",
      "metadata": {
        "id": "CelvtHxR-oDv",
        "colab_type": "code",
        "colab": {}
      },
      "source": [
        "checkpointer = ModelCheckpoint(filepath='/tmp/weights.hdf5', verbose=1, save_best_only=True)"
      ],
      "execution_count": 0,
      "outputs": []
    },
    {
      "cell_type": "markdown",
      "metadata": {
        "id": "WDGm8asglYaj",
        "colab_type": "text"
      },
      "source": [
        "0**Keras Callbacks**"
      ]
    },
    {
      "cell_type": "code",
      "metadata": {
        "id": "KM31YNZh4UB6",
        "colab_type": "code",
        "outputId": "e48c67d0-1778-4062-8954-1d8f0c1ee7a1",
        "colab": {
          "base_uri": "https://localhost:8080/",
          "height": 1000
        }
      },
      "source": [
        "history=model.fit(X_train, y_train, validation_split=(0.2), epochs=35, batch_size=32,verbose=2,callbacks=[checkpointer])\n",
        "#model.fit(x_train, y_train, batch_size=128, epochs=20, verbose=0, validation_data=(X_test, Y_test), callbacks=[checkpointer])\n",
        "\n",
        "\n"
      ],
      "execution_count": 107,
      "outputs": [
        {
          "output_type": "stream",
          "text": [
            "Train on 4032 samples, validate on 1008 samples\n",
            "Epoch 1/35\n",
            " - 14s - loss: 0.6687 - acc: 0.6250 - val_loss: 0.8891 - val_acc: 0.0000e+00\n",
            "\n",
            "Epoch 00001: val_loss improved from inf to 0.88907, saving model to /tmp/weights.hdf5\n",
            "Epoch 2/35\n",
            " - 11s - loss: 0.6518 - acc: 0.6381 - val_loss: 1.1323 - val_acc: 0.0506\n",
            "\n",
            "Epoch 00002: val_loss did not improve from 0.88907\n",
            "Epoch 3/35\n",
            " - 11s - loss: 0.5591 - acc: 0.7341 - val_loss: 0.6806 - val_acc: 0.3829\n",
            "\n",
            "Epoch 00003: val_loss improved from 0.88907 to 0.68057, saving model to /tmp/weights.hdf5\n",
            "Epoch 4/35\n",
            " - 11s - loss: 0.5394 - acc: 0.7448 - val_loss: 0.9358 - val_acc: 0.3710\n",
            "\n",
            "Epoch 00004: val_loss did not improve from 0.68057\n",
            "Epoch 5/35\n",
            " - 11s - loss: 0.5205 - acc: 0.7506 - val_loss: 0.8432 - val_acc: 0.5015\n",
            "\n",
            "Epoch 00005: val_loss did not improve from 0.68057\n",
            "Epoch 6/35\n",
            " - 11s - loss: 0.4217 - acc: 0.8203 - val_loss: 0.4729 - val_acc: 0.7922\n",
            "\n",
            "Epoch 00006: val_loss improved from 0.68057 to 0.47288, saving model to /tmp/weights.hdf5\n",
            "Epoch 7/35\n",
            " - 11s - loss: 0.3008 - acc: 0.8989 - val_loss: 0.4307 - val_acc: 0.8165\n",
            "\n",
            "Epoch 00007: val_loss improved from 0.47288 to 0.43071, saving model to /tmp/weights.hdf5\n",
            "Epoch 8/35\n",
            " - 11s - loss: 0.2531 - acc: 0.9132 - val_loss: 0.4911 - val_acc: 0.8006\n",
            "\n",
            "Epoch 00008: val_loss did not improve from 0.43071\n",
            "Epoch 9/35\n",
            " - 11s - loss: 0.2200 - acc: 0.9268 - val_loss: 0.3574 - val_acc: 0.8279\n",
            "\n",
            "Epoch 00009: val_loss improved from 0.43071 to 0.35740, saving model to /tmp/weights.hdf5\n",
            "Epoch 10/35\n",
            " - 11s - loss: 0.1785 - acc: 0.9404 - val_loss: 0.4604 - val_acc: 0.8229\n",
            "\n",
            "Epoch 00010: val_loss did not improve from 0.35740\n",
            "Epoch 11/35\n",
            " - 11s - loss: 0.1954 - acc: 0.9314 - val_loss: 0.4304 - val_acc: 0.7817\n",
            "\n",
            "Epoch 00011: val_loss did not improve from 0.35740\n",
            "Epoch 12/35\n",
            " - 11s - loss: 0.1520 - acc: 0.9473 - val_loss: 0.5193 - val_acc: 0.8244\n",
            "\n",
            "Epoch 00012: val_loss did not improve from 0.35740\n",
            "Epoch 13/35\n",
            " - 11s - loss: 0.1390 - acc: 0.9537 - val_loss: 0.3398 - val_acc: 0.8621\n",
            "\n",
            "Epoch 00013: val_loss improved from 0.35740 to 0.33977, saving model to /tmp/weights.hdf5\n",
            "Epoch 14/35\n",
            " - 11s - loss: 0.1300 - acc: 0.9556 - val_loss: 0.4466 - val_acc: 0.8482\n",
            "\n",
            "Epoch 00014: val_loss did not improve from 0.33977\n",
            "Epoch 15/35\n",
            " - 11s - loss: 0.1265 - acc: 0.9559 - val_loss: 0.3511 - val_acc: 0.8586\n",
            "\n",
            "Epoch 00015: val_loss did not improve from 0.33977\n",
            "Epoch 16/35\n",
            " - 11s - loss: 0.1126 - acc: 0.9616 - val_loss: 0.4898 - val_acc: 0.8487\n",
            "\n",
            "Epoch 00016: val_loss did not improve from 0.33977\n",
            "Epoch 17/35\n",
            " - 11s - loss: 0.1219 - acc: 0.9585 - val_loss: 0.2589 - val_acc: 0.8720\n",
            "\n",
            "Epoch 00017: val_loss improved from 0.33977 to 0.25893, saving model to /tmp/weights.hdf5\n",
            "Epoch 18/35\n",
            " - 11s - loss: 0.1079 - acc: 0.9624 - val_loss: 0.3020 - val_acc: 0.8760\n",
            "\n",
            "Epoch 00018: val_loss did not improve from 0.25893\n",
            "Epoch 19/35\n",
            " - 11s - loss: 0.1037 - acc: 0.9632 - val_loss: 0.4485 - val_acc: 0.8606\n",
            "\n",
            "Epoch 00019: val_loss did not improve from 0.25893\n",
            "Epoch 20/35\n",
            " - 11s - loss: 0.1125 - acc: 0.9621 - val_loss: 0.4762 - val_acc: 0.8562\n",
            "\n",
            "Epoch 00020: val_loss did not improve from 0.25893\n",
            "Epoch 21/35\n",
            " - 11s - loss: 0.0963 - acc: 0.9665 - val_loss: 0.5491 - val_acc: 0.8661\n",
            "\n",
            "Epoch 00021: val_loss did not improve from 0.25893\n",
            "Epoch 22/35\n",
            " - 11s - loss: 0.1025 - acc: 0.9634 - val_loss: 0.4181 - val_acc: 0.8681\n",
            "\n",
            "Epoch 00022: val_loss did not improve from 0.25893\n",
            "Epoch 23/35\n",
            " - 11s - loss: 0.1057 - acc: 0.9630 - val_loss: 0.4080 - val_acc: 0.8690\n",
            "\n",
            "Epoch 00023: val_loss did not improve from 0.25893\n",
            "Epoch 24/35\n",
            " - 11s - loss: 0.0976 - acc: 0.9654 - val_loss: 0.4626 - val_acc: 0.8671\n",
            "\n",
            "Epoch 00024: val_loss did not improve from 0.25893\n",
            "Epoch 25/35\n",
            " - 11s - loss: 0.0998 - acc: 0.9623 - val_loss: 0.3690 - val_acc: 0.8770\n",
            "\n",
            "Epoch 00025: val_loss did not improve from 0.25893\n",
            "Epoch 26/35\n",
            " - 11s - loss: 0.0915 - acc: 0.9649 - val_loss: 0.3953 - val_acc: 0.8765\n",
            "\n",
            "Epoch 00026: val_loss did not improve from 0.25893\n",
            "Epoch 27/35\n",
            " - 11s - loss: 0.0800 - acc: 0.9674 - val_loss: 0.3999 - val_acc: 0.8993\n",
            "\n",
            "Epoch 00027: val_loss did not improve from 0.25893\n",
            "Epoch 28/35\n",
            " - 11s - loss: 0.1451 - acc: 0.9488 - val_loss: 0.4060 - val_acc: 0.8264\n",
            "\n",
            "Epoch 00028: val_loss did not improve from 0.25893\n",
            "Epoch 29/35\n",
            " - 11s - loss: 0.0993 - acc: 0.9602 - val_loss: 0.4603 - val_acc: 0.8576\n",
            "\n",
            "Epoch 00029: val_loss did not improve from 0.25893\n",
            "Epoch 30/35\n",
            " - 11s - loss: 0.0838 - acc: 0.9655 - val_loss: 0.5043 - val_acc: 0.8452\n",
            "\n",
            "Epoch 00030: val_loss did not improve from 0.25893\n",
            "Epoch 31/35\n",
            " - 11s - loss: 0.0645 - acc: 0.9731 - val_loss: 0.3112 - val_acc: 0.9187\n",
            "\n",
            "Epoch 00031: val_loss did not improve from 0.25893\n",
            "Epoch 32/35\n",
            " - 11s - loss: 0.0618 - acc: 0.9769 - val_loss: 0.2956 - val_acc: 0.9311\n",
            "\n",
            "Epoch 00032: val_loss did not improve from 0.25893\n",
            "Epoch 33/35\n",
            " - 11s - loss: 0.0573 - acc: 0.9779 - val_loss: 0.2786 - val_acc: 0.9415\n",
            "\n",
            "Epoch 00033: val_loss did not improve from 0.25893\n",
            "Epoch 34/35\n",
            " - 11s - loss: 0.0469 - acc: 0.9831 - val_loss: 0.4384 - val_acc: 0.9152\n",
            "\n",
            "Epoch 00034: val_loss did not improve from 0.25893\n",
            "Epoch 35/35\n",
            " - 11s - loss: 0.0394 - acc: 0.9840 - val_loss: 0.3754 - val_acc: 0.9335\n",
            "\n",
            "Epoch 00035: val_loss did not improve from 0.25893\n"
          ],
          "name": "stdout"
        }
      ]
    },
    {
      "cell_type": "code",
      "metadata": {
        "id": "cDDalmCAwJyg",
        "colab_type": "code",
        "outputId": "1aa44c65-1cf1-4e44-904e-73d25b7208d1",
        "colab": {
          "base_uri": "https://localhost:8080/",
          "height": 119
        }
      },
      "source": [
        "model.load_weights('/tmp/weights.hdf5')\n",
        "train_loss,train_acc=model.evaluate(X_train,y_train)\n",
        "print(train_loss)\n",
        "print(train_acc)\n",
        "test_loss,test_acc=model.evaluate(X_test,y_test)\n",
        "print(test_loss)\n",
        "print(test_acc)"
      ],
      "execution_count": 108,
      "outputs": [
        {
          "output_type": "stream",
          "text": [
            "5040/5040 [==============================] - 5s 982us/step\n",
            "0.13783461837813357\n",
            "0.9458333333333333\n",
            "2669/2669 [==============================] - 3s 1ms/step\n",
            "3.6459699795906264\n",
            "0.7716373173696532\n"
          ],
          "name": "stdout"
        }
      ]
    },
    {
      "cell_type": "markdown",
      "metadata": {
        "id": "UdDUSm89wjvi",
        "colab_type": "text"
      },
      "source": [
        "### Loss and Accuracy Curves"
      ]
    },
    {
      "cell_type": "code",
      "metadata": {
        "id": "q1OD6P3SwUK3",
        "colab_type": "code",
        "colab": {}
      },
      "source": [
        "train_loss = history.history['loss']\n",
        "train_acc = history.history['acc']\n",
        "val_loss = history.history['val_loss']\n",
        "val_acc = history.history['val_acc']\n",
        "xc=range(35)"
      ],
      "execution_count": 0,
      "outputs": []
    },
    {
      "cell_type": "code",
      "metadata": {
        "id": "ObPDOrVlwZ54",
        "colab_type": "code",
        "colab": {
          "base_uri": "https://localhost:8080/",
          "height": 296
        },
        "outputId": "a03db9d6-669c-42d6-a8ba-bbcb5d14b544"
      },
      "source": [
        "import matplotlib.pyplot as plt\n",
        "%matplotlib inline\n",
        "plt.plot(xc, train_loss)\n",
        "plt.plot(xc, val_loss)\n",
        "plt.xlabel(\"Epoch\")\n",
        "plt.ylabel(\"Loss\")\n",
        "plt.legend(['train','val'])"
      ],
      "execution_count": 110,
      "outputs": [
        {
          "output_type": "execute_result",
          "data": {
            "text/plain": [
              "<matplotlib.legend.Legend at 0x7f750f92f208>"
            ]
          },
          "metadata": {
            "tags": []
          },
          "execution_count": 110
        },
        {
          "output_type": "display_data",
          "data": {
            "image/png": "[encoded data removed]",
            "text/plain": [
              "<Figure size 432x288 with 1 Axes>"
            ]
          },
          "metadata": {
            "tags": []
          }
        }
      ]
    },
    {
      "cell_type": "code",
      "metadata": {
        "id": "ehQ7ykS3wiJ6",
        "colab_type": "code",
        "colab": {
          "base_uri": "https://localhost:8080/",
          "height": 296
        },
        "outputId": "9b32d470-07e9-4f61-8a1a-02bedc1c2385"
      },
      "source": [
        "import matplotlib.pyplot as plt\n",
        "%matplotlib inline\n",
        "plt.plot(xc, train_acc)\n",
        "plt.plot(xc, val_acc)\n",
        "plt.xlabel(\"Epoch\")\n",
        "plt.ylabel(\"Acc\")\n",
        "plt.legend(['train','val'])"
      ],
      "execution_count": 111,
      "outputs": [
        {
          "output_type": "execute_result",
          "data": {
            "text/plain": [
              "<matplotlib.legend.Legend at 0x7f750f8bf8d0>"
            ]
          },
          "metadata": {
            "tags": []
          },
          "execution_count": 111
        },
        {
          "output_type": "display_data",
          "data": {
            "image/png": "[encoded data removed]",
            "text/plain": [
              "<Figure size 432x288 with 1 Axes>"
            ]
          },
          "metadata": {
            "tags": []
          }
        }
      ]
    },
    {
      "cell_type": "code",
      "metadata": {
        "id": "ZLI9oGNgWHrX",
        "colab_type": "code",
        "colab": {}
      },
      "source": [
        "\n"
      ],
      "execution_count": 0,
      "outputs": []
    },
    {
      "cell_type": "code",
      "metadata": {
        "id": "C4dlZL121e5L",
        "colab_type": "code",
        "outputId": "ce4b0d17-1de2-4f6f-d25b-89d9c483b0c3",
        "colab": {
          "base_uri": "https://localhost:8080/",
          "height": 170
        }
      },
      "source": [
        "import numpy as np\n",
        "from sklearn.metrics import classification_report,confusion_matrix\n",
        "import itertools\n",
        "\n",
        "Y_pred = model.predict(X_test)\n",
        "#print(np.unique(Y_pred))\n",
        "y_pred = np.argmax(Y_pred, axis=1)\n",
        "target_names = ['class 0', 'class 1']\n",
        "print(classification_report(np.argmax(y_test,axis=1), y_pred,target_names=target_names))"
      ],
      "execution_count": 112,
      "outputs": [
        {
          "output_type": "stream",
          "text": [
            "              precision    recall  f1-score   support\n",
            "\n",
            "     class 0       0.18      0.85      0.29       149\n",
            "     class 1       0.99      0.77      0.86      2520\n",
            "\n",
            "    accuracy                           0.77      2669\n",
            "   macro avg       0.58      0.81      0.58      2669\n",
            "weighted avg       0.94      0.77      0.83      2669\n",
            "\n"
          ],
          "name": "stdout"
        }
      ]
    },
    {
      "cell_type": "code",
      "metadata": {
        "id": "QgNg1yTJGzBH",
        "colab_type": "code",
        "colab": {}
      },
      "source": [
        "\n"
      ],
      "execution_count": 0,
      "outputs": []
    },
    {
      "cell_type": "code",
      "metadata": {
        "id": "DzxV4PA_xifu",
        "colab_type": "code",
        "colab": {}
      },
      "source": [
        ""
      ],
      "execution_count": 0,
      "outputs": []
    }
  ]
}